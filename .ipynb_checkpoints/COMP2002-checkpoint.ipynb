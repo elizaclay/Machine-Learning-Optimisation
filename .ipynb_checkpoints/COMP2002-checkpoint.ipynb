{
 "cells": [
  {
   "cell_type": "markdown",
   "metadata": {},
   "source": [
    "##Task 1.1 Data Preparation"
   ]
  },
  {
   "cell_type": "code",
   "execution_count": 27,
   "metadata": {
    "id": "u0RDce0ileHG",
    "scrolled": true
   },
   "outputs": [
    {
     "name": "stdout",
     "output_type": "stream",
     "text": [
      "        RI     Na    Mg    Al     Si     K    Ca   Ba   Fe  Type\n",
      "0  1.52101  13.64  4.49  1.10  71.78  0.06  8.75  0.0  0.0     1\n",
      "1  1.51761  13.89  3.60  1.36  72.73  0.48  7.83  0.0  0.0     1\n",
      "2  1.51618  13.53  3.55  1.54  72.99  0.39  7.78  0.0  0.0     1\n",
      "3  1.51766  13.21  3.69  1.29  72.61  0.57  8.22  0.0  0.0     1\n",
      "4  1.51742  13.27  3.62  1.24  73.08  0.55  8.07  0.0  0.0     1\n",
      "<class 'pandas.core.frame.DataFrame'>\n",
      "RangeIndex: 214 entries, 0 to 213\n",
      "Data columns (total 10 columns):\n",
      " #   Column  Non-Null Count  Dtype  \n",
      "---  ------  --------------  -----  \n",
      " 0   RI      214 non-null    float64\n",
      " 1   Na      214 non-null    float64\n",
      " 2   Mg      214 non-null    float64\n",
      " 3   Al      214 non-null    float64\n",
      " 4   Si      214 non-null    float64\n",
      " 5   K       214 non-null    float64\n",
      " 6   Ca      214 non-null    float64\n",
      " 7   Ba      214 non-null    float64\n",
      " 8   Fe      214 non-null    float64\n",
      " 9   Type    214 non-null    int64  \n",
      "dtypes: float64(9), int64(1)\n",
      "memory usage: 16.8 KB\n",
      "\n",
      "\n",
      "Duplicate count :  1 \n",
      "\n",
      "         RI     Na    Mg    Al     Si     K    Ca   Ba   Fe  Type\n",
      "38  1.52213  14.21  3.82  0.47  71.77  0.11  9.57  0.0  0.0     1\n",
      "39  1.52213  14.21  3.82  0.47  71.77  0.11  9.57  0.0  0.0     1 \n",
      "\n",
      "Duplicate count :  0 \n",
      "\n",
      "RI      0\n",
      "Na      0\n",
      "Mg      0\n",
      "Al      0\n",
      "Si      0\n",
      "K       0\n",
      "Ca      0\n",
      "Ba      0\n",
      "Fe      0\n",
      "Type    0\n",
      "dtype: int64\n",
      "Missing count:  0 \n",
      "\n",
      "After scaling RI      1.0\n",
      "Na      1.0\n",
      "Mg      1.0\n",
      "Al      1.0\n",
      "Si      1.0\n",
      "K       1.0\n",
      "Ca      1.0\n",
      "Ba      1.0\n",
      "Fe      1.0\n",
      "Type    6.0\n",
      "dtype: float64\n",
      "         RI        Na        Mg        Al        Si         K        Ca   Ba  \\\n",
      "0  0.432836  0.437594  1.000000  0.252336  0.351786  0.009662  0.308550  0.0   \n",
      "1  0.283582  0.475188  0.801782  0.333333  0.521429  0.077295  0.223048  0.0   \n",
      "2  0.220808  0.421053  0.790646  0.389408  0.567857  0.062802  0.218401  0.0   \n",
      "3  0.285777  0.372932  0.821826  0.311526  0.500000  0.091787  0.259294  0.0   \n",
      "4  0.275241  0.381955  0.806236  0.295950  0.583929  0.088567  0.245353  0.0   \n",
      "\n",
      "    Fe  Type  \n",
      "0  0.0   1.0  \n",
      "1  0.0   1.0  \n",
      "2  0.0   1.0  \n",
      "3  0.0   1.0  \n",
      "4  0.0   1.0  \n"
     ]
    }
   ],
   "source": [
    "import pandas as pd\n",
    "from sklearn.preprocessing import MinMaxScaler\n",
    "from sklearn . model_selection import train_test_split\n",
    "from sklearn.decomposition import PCA\n",
    "\n",
    "\n",
    "#read dataset\n",
    "df = pd.read_csv(\"glass_dataset.csv\")\n",
    "print(df.head(5)) #print first 5 rows to verify\n",
    "df.info() \n",
    "print(\"\\n\")\n",
    "\n",
    "#check for duplicates \n",
    "print(\"Duplicate count : \",df.duplicated().sum(), \"\\n\") #print duplicate count\n",
    "print(df[df.duplicated(keep=False)], \"\\n\") #print duplicate rows \n",
    "\n",
    "df = df.drop_duplicates() #drop duplicates and reassign df\n",
    "print(\"Duplicate count : \",df.duplicated().sum(), \"\\n\")\n",
    "\n",
    "#check for missing values\n",
    "print(df.isnull().sum())\n",
    "print(\"Missing count: \",df.isnull().sum().sum(), \"\\n\")\n",
    "\n",
    "#separate features from target glass types \n",
    "features = df.drop(columns=[\"Type\"])  #glass features\n",
    "glass = df[\"Type\"]  #glass types\n",
    "\n",
    "#normalise the dataset\n",
    "scaler = MinMaxScaler()\n",
    "scaled = scaler.fit_transform(features)\n",
    "df_scaled = pd.DataFrame(scaled, columns=features.columns)\n",
    "df_scaled[\"Type\"] = glass\n",
    "\n",
    "#verify changes \n",
    "print(\"After scaling\", df_scaled.max() - df_scaled.min())\n",
    "print(df_scaled.head(5))\n",
    "\n",
    "df_scaled.to_csv(\"glass_dataset_scaled.csv\", index=False)\n"
   ]
  },
  {
   "cell_type": "markdown",
   "metadata": {},
   "source": [
    "##Task 1.2 Classification"
   ]
  },
  {
   "cell_type": "code",
   "execution_count": 51,
   "metadata": {},
   "outputs": [
    {
     "name": "stdout",
     "output_type": "stream",
     "text": [
      "Dimensions: (213, 9)\n",
      "Feature Variance:\n",
      " RI    0.000009\n",
      "Na    0.666937\n",
      "Mg    2.084244\n",
      "Al    0.245942\n",
      "Si    0.599073\n",
      "K     0.426651\n",
      "Ca    2.033138\n",
      "Ba    0.248248\n",
      "Fe    0.009524\n",
      "dtype: float64\n",
      "Dimensions: (213, 2)\n"
     ]
    }
   ],
   "source": [
    "from sklearn.model_selection import train_test_split\n",
    "from sklearn.decomposition import PCA\n",
    "\n",
    "#separate features from target glass types \n",
    "features = df.drop(columns=[\"Type\"])  #glass features\n",
    "glass = df[\"Type\"]  #glass types\n",
    "\n",
    "#split data\n",
    "X_train, X_test, y_train, y_test = train_test_split(features, glass, test_size=0.2, stratify=glass, random_state=42)\n",
    "\n",
    "print(\"Dimensions:\", features.shape) \n",
    "print(\"Feature Variance:\\n\", features.var())\n",
    "\n",
    "pca = PCA (n_components=2)\n",
    "compressed = pca.fit_transform(features)\n",
    "print(\"Dimensions:\", compressed.shape)\n"
   ]
  },
  {
   "cell_type": "code",
   "execution_count": null,
   "metadata": {},
   "outputs": [],
   "source": []
  }
 ],
 "metadata": {
  "colab": {
   "provenance": []
  },
  "kernelspec": {
   "display_name": "Python [conda env:base] *",
   "language": "python",
   "name": "conda-base-py"
  },
  "language_info": {
   "codemirror_mode": {
    "name": "ipython",
    "version": 3
   },
   "file_extension": ".py",
   "mimetype": "text/x-python",
   "name": "python",
   "nbconvert_exporter": "python",
   "pygments_lexer": "ipython3",
   "version": "3.12.7"
  }
 },
 "nbformat": 4,
 "nbformat_minor": 4
}
